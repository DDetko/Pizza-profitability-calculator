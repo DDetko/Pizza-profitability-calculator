{
 "cells": [
  {
   "cell_type": "markdown",
   "id": "731cdeb4",
   "metadata": {},
   "source": [
    "## Pizza profitability calculator\n",
    "The aim of this projekt was to create a calculator to compare the profitability of two types of pizza.\n",
    "\n",
    "Enter the data about first pizza:\n",
    "* number of pizzas\n",
    "* diameter in cm\n",
    "* price  \n",
    "\n",
    "Then retake the steps for the second pizza.\n",
    "\n",
    "The result will show you which option you should take and how much groszys you would pay for each cm<sup>2</sup>."
   ]
  },
  {
   "cell_type": "code",
   "execution_count": 75,
   "id": "3a92b73c",
   "metadata": {},
   "outputs": [
    {
     "name": "stdout",
     "output_type": "stream",
     "text": [
      "How many pizzas of type 1 would you like to order? 1\n",
      "How much is the diameter of a type 1 pizza? 60\n",
      "How much zlotys does a type 1 pizza cost? 71.9\n",
      "\n",
      "\n",
      "How many pizzas of type 2 would you like to order? 2\n",
      "How much is the diameter of a type 2 pizza? 42\n",
      "How much zlotys does a type 2 pizza cost? 45.9\n",
      "\n",
      "\n",
      "\n",
      "Total area of pizza(s) of type 1 is 2827.43 cm^2. For 1 cm^2 of pizza 1 you would pay 2.54 groszy.\n",
      "Total area of pizza(s) of type 2 is 2770.88 cm^2. For 1 cm^2 of pizza 2 you would pay 3.31 groszy.\n",
      "You should choose the first option, it is more profitable.\n",
      "\n"
     ]
    }
   ],
   "source": [
    "from math import pi\n",
    "\n",
    "def pizzacalc():\n",
    "    \n",
    "    # Data and calculations about pizza 1\n",
    "    number1 = int(input('How many pizzas of type 1 would you like to order? '))\n",
    "    diameter1 = float(input('How much is the diameter of a type 1 pizza? '))\n",
    "    area1 = round(number1 * pi * (diameter1/2)**2, 2)\n",
    "    price1 = float(input('How much zlotys does a type 1 pizza cost? '))\n",
    "    unit_price1 = round(100 * number1 * price1 / area1, 2)\n",
    "    print('\\n')\n",
    "\n",
    "    # Data and calculations about pizza 2\n",
    "    number2 = int(input('How many pizzas of type 2 would you like to order? '))\n",
    "    diameter2 = float(input('How much is the diameter of a type 2 pizza? '))\n",
    "    area2 = round(number2 * pi * (diameter2/2)**2, 2)\n",
    "    price2 = float(input('How much zlotys does a type 2 pizza cost? '))\n",
    "    unit_price2 = round(100 * number2 * price2 / area2, 2)\n",
    "    print('\\n')\n",
    "    \n",
    "    \n",
    "    # Comparison\n",
    "    if unit_price1 < unit_price2:\n",
    "        print(\"\"\"\n",
    "Total area of pizza(s) of type 1 is \"\"\" + str(area1) + \"\"\" cm^2. For 1 cm^2 of pizza 1 you would pay \"\"\" + str(unit_price1) + \"\"\" groszy.\n",
    "Total area of pizza(s) of type 2 is \"\"\" + str(area2) + \"\"\" cm^2. For 1 cm^2 of pizza 2 you would pay \"\"\" + str(unit_price2) + \"\"\" groszy.\n",
    "You should choose the first option, it is more profitable.\n",
    "\"\"\")\n",
    "\n",
    "    elif unit_price1 > unit_price2:\n",
    "        print(\"\"\"\n",
    "Total area of pizza(s) of type 1 is \"\"\" + str(area1) + \"\"\" cm^2. For 1 cm^2 of pizza 1 you would pay \"\"\" + str(unit_price1) + \"\"\" groszy.\n",
    "Total area of pizza(s) of type 2 is \"\"\" + str(area2) + \"\"\" cm^2. For 1 cm^2 of pizza 2 you would pay \"\"\" + str(unit_price2) + \"\"\" groszy.\n",
    "You should choose the second option, it is more profitable.\n",
    "\"\"\")\n",
    "\n",
    "    else:\n",
    "        print(\"\"\"\n",
    "Total area of pizza(s) of type 1 is \"\"\" + str(area1) + \"\"\" cm^2. For 1 cm^2 of pizza 1 you would pay \"\"\" + str(unit_price1) + \"\"\" groszy.\n",
    "Total area of pizza(s) of type 2 is \"\"\" + str(area2) + \"\"\" cm^2. For 1 cm^2 of pizza 2 you would pay \"\"\" + str(unit_price2) + \"\"\" groszy.\n",
    "Both options are equally profitable.\n",
    "\"\"\")\n",
    "\n",
    "pizzacalc()"
   ]
  }
 ],
 "metadata": {
  "kernelspec": {
   "display_name": "Python 3 (ipykernel)",
   "language": "python",
   "name": "python3"
  },
  "language_info": {
   "codemirror_mode": {
    "name": "ipython",
    "version": 3
   },
   "file_extension": ".py",
   "mimetype": "text/x-python",
   "name": "python",
   "nbconvert_exporter": "python",
   "pygments_lexer": "ipython3",
   "version": "3.9.7"
  }
 },
 "nbformat": 4,
 "nbformat_minor": 5
}
